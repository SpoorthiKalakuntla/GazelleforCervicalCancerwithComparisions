{
 "cells": [
  {
   "cell_type": "code",
   "execution_count": 1,
   "id": "a00b07e0-1d15-4ff0-bcdf-1292e2cd1760",
   "metadata": {},
   "outputs": [],
   "source": [
    "import numpy as np\n",
    "import torch\n",
    "import torch.nn as nn\n",
    "import torch.optim as optim\n",
    "from torchvision import models, datasets, transforms\n",
    "from torch.utils.data import DataLoader, random_split\n",
    "from sklearn.metrics import accuracy_score, precision_score, recall_score, f1_score, matthews_corrcoef, confusion_matrix\n",
    "import matplotlib.pyplot as plt\n",
    "import seaborn as sns\n",
    "\n",
    "# ——— GazelleOptimizer with Lévy flight & Brownian motion ——————————\n",
    "def levy_brownian_step(prob_brownian=0.3, lam=1.5, size=1):\n",
    "    if np.random.rand() < prob_brownian:\n",
    "        return np.random.normal(0, 0.1, size)\n",
    "    else:\n",
    "        sigma_levy = (np.math.gamma(1+lam) * np.sin(np.pi*lam/2) /\n",
    "                     (np.math.gamma((1+lam)/2)*lam*2**((lam-1)/2)))**(1/lam)\n",
    "        u = np.random.normal(0, sigma_levy, size)\n",
    "        v = np.random.normal(0, 1, size)\n",
    "        return u/(np.abs(v)**(1/lam))\n",
    "\n",
    "class GazelleOptimizer(optim.Optimizer):\n",
    "    def __init__(self, params, lr=0.001, momentum=0.9, exploration_factor=0.1,\n",
    "                 num_gazelles=10, prob_brownian=0.3):\n",
    "        defaults = dict(lr=lr, momentum=momentum,\n",
    "                        exploration_factor=exploration_factor,\n",
    "                        num_gazelles=num_gazelles)\n",
    "        super().__init__(params, defaults)\n",
    "        self.prob_brownian = prob_brownian\n",
    "        self.gazelles = None\n",
    "\n",
    "    def initialize_population(self, shape, device, dtype):\n",
    "        lb, ub = -1., 1.\n",
    "        self.gazelles = torch.empty(\n",
    "            (self.defaults['num_gazelles'], *shape),\n",
    "            device=device, dtype=dtype\n",
    "        ).uniform_(lb, ub)\n",
    "\n",
    "    def step(self, closure=None):\n",
    "        loss = closure() if closure else None\n",
    "        for group in self.param_groups:\n",
    "            lr = group['lr']\n",
    "            m = group['momentum']\n",
    "            ef = group['exploration_factor']\n",
    "            ng = group['num_gazelles']\n",
    "\n",
    "            for p in group['params']:\n",
    "                if p.grad is None: continue\n",
    "                d = p.grad.data\n",
    "                shape = d.shape\n",
    "\n",
    "                if self.gazelles is None or self.gazelles.shape[1:] != shape:\n",
    "                    self.initialize_population(shape, p.device, p.dtype)\n",
    "\n",
    "                vec = torch.tensor(\n",
    "                    levy_brownian_step(self.prob_brownian, size=d.numel()),\n",
    "                    device=p.device, dtype=p.dtype\n",
    "                ).view_as(d).detach()\n",
    "\n",
    "                for i in range(ng):\n",
    "                    self.gazelles[i].add_(ef * vec).clamp_(-1., 1.)\n",
    "\n",
    "                buf = self.state[p].get('momentum_buffer', None)\n",
    "                if buf is None:\n",
    "                    buf = d.clone()\n",
    "                    self.state[p]['momentum_buffer'] = buf\n",
    "                else:\n",
    "                    buf.mul_(m).add_(d)\n",
    "                elite = self.gazelles.mean(0)\n",
    "                p.data.add_( -(buf + ef*elite) * lr )\n",
    "        return loss"
   ]
  },
  {
   "cell_type": "code",
   "execution_count": 2,
   "id": "1a5d8087-3bb1-4b4f-8742-0c6b91dd3998",
   "metadata": {},
   "outputs": [],
   "source": [
    "# ——— Data Preparation —————————————————————————————————————————————\n",
    "dataset_path = r\"C:\\Users\\CVR\\Desktop\\DataSet\\Herlev Dataset\\augmented_train\"\n",
    "batch_size, num_classes = 32, 7\n",
    "transform = transforms.Compose([\n",
    "    transforms.Resize((224,224)),\n",
    "    transforms.ToTensor(),\n",
    "    transforms.Normalize([0.485,0.456,0.406],[0.229,0.224,0.225])\n",
    "])\n",
    "dataset = datasets.ImageFolder(dataset_path, transform=transform)\n",
    "train_size = int(0.8 * len(dataset))\n",
    "val_size = len(dataset) - train_size\n",
    "train_ds, val_ds = random_split(dataset, [train_size, val_size])\n",
    "train_loader = DataLoader(train_ds, batch_size=batch_size, shuffle=True)\n",
    "val_loader = DataLoader(val_ds, batch_size=batch_size, shuffle=False)\n",
    "device = torch.device('cuda' if torch.cuda.is_available() else 'cpu')"
   ]
  },
  {
   "cell_type": "code",
   "execution_count": 5,
   "id": "b0bb63d9-f95c-45ed-89c8-c0398cd638b8",
   "metadata": {},
   "outputs": [],
   "source": [
    "import torch.nn as nn\n",
    "from torchvision import models\n",
    "\n",
    "device = torch.device(\"cuda\" if torch.cuda.is_available() else \"cpu\")\n",
    "\n",
    "def create_model(name, num_classes):\n",
    "    if name == 'resnet18':\n",
    "        model = models.squeezenet1_1(pretrained=True)\n",
    "        model.classifier[1] = nn.Conv2d(512, num_classes, kernel_size=1)\n",
    "        model.num_classes = num_classes\n",
    "\n",
    "    elif name == 'squeezenet1_1':\n",
    "        model = models.resnet18(pretrained=True)\n",
    "        model.fc = nn.Linear(model.fc.in_features, num_classes)\n",
    "\n",
    "    elif name == 'vgg16':\n",
    "        model = models.vgg16(pretrained=True)\n",
    "        model.classifier[6] = nn.Linear(model.classifier[6].in_features, num_classes)\n",
    "\n",
    "    elif name == 'mobilenet_v2':\n",
    "        model = models.mobilenet_v2(pretrained=True)\n",
    "        model.classifier[1] = nn.Linear(model.classifier[1].in_features, num_classes)\n",
    "\n",
    "    else:\n",
    "        raise ValueError(f\"Unsupported model name: {name}\")\n",
    "\n",
    "    return model.to(device)"
   ]
  },
  {
   "cell_type": "code",
   "execution_count": 7,
   "id": "b1e5236b-af5b-4181-9495-b1e28f9f9a5b",
   "metadata": {},
   "outputs": [
    {
     "name": "stderr",
     "output_type": "stream",
     "text": [
      "C:\\Users\\CVR\\anaconda3\\Lib\\site-packages\\torchvision\\models\\_utils.py:208: UserWarning: The parameter 'pretrained' is deprecated since 0.13 and may be removed in the future, please use 'weights' instead.\n",
      "  warnings.warn(\n",
      "C:\\Users\\CVR\\anaconda3\\Lib\\site-packages\\torchvision\\models\\_utils.py:223: UserWarning: Arguments other than a weight enum or `None` for 'weights' are deprecated since 0.13 and may be removed in the future. The current behavior is equivalent to passing `weights=ResNet18_Weights.IMAGENET1K_V1`. You can also use `weights=ResNet18_Weights.DEFAULT` to get the most up-to-date weights.\n",
      "  warnings.warn(msg)\n",
      "C:\\Users\\CVR\\anaconda3\\Lib\\site-packages\\torchvision\\models\\_utils.py:223: UserWarning: Arguments other than a weight enum or `None` for 'weights' are deprecated since 0.13 and may be removed in the future. The current behavior is equivalent to passing `weights=SqueezeNet1_1_Weights.IMAGENET1K_V1`. You can also use `weights=SqueezeNet1_1_Weights.DEFAULT` to get the most up-to-date weights.\n",
      "  warnings.warn(msg)\n",
      "C:\\Users\\CVR\\anaconda3\\Lib\\site-packages\\torchvision\\models\\_utils.py:223: UserWarning: Arguments other than a weight enum or `None` for 'weights' are deprecated since 0.13 and may be removed in the future. The current behavior is equivalent to passing `weights=VGG16_Weights.IMAGENET1K_V1`. You can also use `weights=VGG16_Weights.DEFAULT` to get the most up-to-date weights.\n",
      "  warnings.warn(msg)\n"
     ]
    }
   ],
   "source": [
    "num_classes = 7  # adjust for your classification problem\n",
    "model_names = ['squeezenet1_1', 'resnet18', 'vgg16', ]\n",
    "\n",
    "# Create models with distinct names\n",
    "models_dict = {}\n",
    "for name in model_names:\n",
    "    model = create_model(name, num_classes)\n",
    "    models_dict[name] = model\n",
    "# ——— Training & Evaluation Functions —————————————————————————————————\n",
    "def train_one_epoch(model, loader, optimizer, criterion):\n",
    "    model.train()\n",
    "    total_loss, correct, total = 0, 0, 0\n",
    "    for inputs, labels in loader:\n",
    "        inputs, labels = inputs.to(device), labels.to(device)\n",
    "        optimizer.zero_grad()\n",
    "        outputs = model(inputs)\n",
    "        loss = criterion(outputs, labels)\n",
    "        loss.backward()\n",
    "        optimizer.step()\n",
    "        total_loss += loss.item() * inputs.size(0)\n",
    "        _, preds = outputs.max(1)\n",
    "        correct += preds.eq(labels).sum().item()\n",
    "        total += labels.size(0)\n",
    "    return total_loss/total, correct/total\n",
    "\n",
    "def evaluate(model, loader, criterion):\n",
    "    model.eval()\n",
    "    total_loss, all_preds, all_labels = 0, [], []\n",
    "    with torch.no_grad():\n",
    "        for inputs, labels in loader:\n",
    "            inputs, labels = inputs.to(device), labels.to(device)\n",
    "            out = model(inputs)\n",
    "            loss = criterion(out, labels)\n",
    "            total_loss += loss.item() * inputs.size(0)\n",
    "            preds = out.argmax(1)\n",
    "            all_preds += preds.cpu().tolist()\n",
    "            all_labels += labels.cpu().tolist()\n",
    "\n",
    "    metrics = {\n",
    "        'loss': total_loss/len(loader.dataset),\n",
    "        'accuracy': accuracy_score(all_labels, all_preds),\n",
    "        'precision': precision_score(all_labels, all_preds, average='weighted'),\n",
    "        'recall': recall_score(all_labels, all_preds, average='weighted'),\n",
    "        'f1': f1_score(all_labels, all_preds, average='weighted'),\n",
    "        'mcc': matthews_corrcoef(all_labels, all_preds)\n",
    "    }\n",
    "    return metrics"
   ]
  },
  {
   "cell_type": "code",
   "execution_count": null,
   "id": "7f90c01d-556e-497d-922c-e4b38ce7ff23",
   "metadata": {},
   "outputs": [
    {
     "name": "stdout",
     "output_type": "stream",
     "text": [
      "\n",
      "=== Training squeezenet1_1 ===\n"
     ]
    },
    {
     "name": "stderr",
     "output_type": "stream",
     "text": [
      "C:\\Users\\CVR\\AppData\\Local\\Temp\\ipykernel_3844\\4281753202.py:16: DeprecationWarning: `np.math` is a deprecated alias for the standard library `math` module (Deprecated Numpy 1.25). Replace usages of `np.math` with `math`\n",
      "  sigma_levy = (np.math.gamma(1+lam) * np.sin(np.pi*lam/2) /\n",
      "C:\\Users\\CVR\\AppData\\Local\\Temp\\ipykernel_3844\\4281753202.py:17: DeprecationWarning: `np.math` is a deprecated alias for the standard library `math` module (Deprecated Numpy 1.25). Replace usages of `np.math` with `math`\n",
      "  (np.math.gamma((1+lam)/2)*lam*2**((lam-1)/2)))**(1/lam)\n"
     ]
    },
    {
     "name": "stdout",
     "output_type": "stream",
     "text": [
      "Ep 1/10: train_loss=1.2597, train_acc=0.5267, val_loss=0.8921, val_acc=0.6652\n"
     ]
    },
    {
     "name": "stderr",
     "output_type": "stream",
     "text": [
      "C:\\Users\\CVR\\AppData\\Local\\Temp\\ipykernel_3844\\4281753202.py:16: DeprecationWarning: `np.math` is a deprecated alias for the standard library `math` module (Deprecated Numpy 1.25). Replace usages of `np.math` with `math`\n",
      "  sigma_levy = (np.math.gamma(1+lam) * np.sin(np.pi*lam/2) /\n",
      "C:\\Users\\CVR\\AppData\\Local\\Temp\\ipykernel_3844\\4281753202.py:17: DeprecationWarning: `np.math` is a deprecated alias for the standard library `math` module (Deprecated Numpy 1.25). Replace usages of `np.math` with `math`\n",
      "  (np.math.gamma((1+lam)/2)*lam*2**((lam-1)/2)))**(1/lam)\n"
     ]
    },
    {
     "name": "stdout",
     "output_type": "stream",
     "text": [
      "Ep 2/10: train_loss=0.6885, train_acc=0.7673, val_loss=0.6114, val_acc=0.7943\n"
     ]
    },
    {
     "name": "stderr",
     "output_type": "stream",
     "text": [
      "C:\\Users\\CVR\\AppData\\Local\\Temp\\ipykernel_3844\\4281753202.py:16: DeprecationWarning: `np.math` is a deprecated alias for the standard library `math` module (Deprecated Numpy 1.25). Replace usages of `np.math` with `math`\n",
      "  sigma_levy = (np.math.gamma(1+lam) * np.sin(np.pi*lam/2) /\n",
      "C:\\Users\\CVR\\AppData\\Local\\Temp\\ipykernel_3844\\4281753202.py:17: DeprecationWarning: `np.math` is a deprecated alias for the standard library `math` module (Deprecated Numpy 1.25). Replace usages of `np.math` with `math`\n",
      "  (np.math.gamma((1+lam)/2)*lam*2**((lam-1)/2)))**(1/lam)\n"
     ]
    },
    {
     "name": "stdout",
     "output_type": "stream",
     "text": [
      "Ep 3/10: train_loss=0.4528, train_acc=0.8496, val_loss=0.4629, val_acc=0.8318\n"
     ]
    },
    {
     "name": "stderr",
     "output_type": "stream",
     "text": [
      "C:\\Users\\CVR\\AppData\\Local\\Temp\\ipykernel_3844\\4281753202.py:16: DeprecationWarning: `np.math` is a deprecated alias for the standard library `math` module (Deprecated Numpy 1.25). Replace usages of `np.math` with `math`\n",
      "  sigma_levy = (np.math.gamma(1+lam) * np.sin(np.pi*lam/2) /\n",
      "C:\\Users\\CVR\\AppData\\Local\\Temp\\ipykernel_3844\\4281753202.py:17: DeprecationWarning: `np.math` is a deprecated alias for the standard library `math` module (Deprecated Numpy 1.25). Replace usages of `np.math` with `math`\n",
      "  (np.math.gamma((1+lam)/2)*lam*2**((lam-1)/2)))**(1/lam)\n"
     ]
    },
    {
     "name": "stdout",
     "output_type": "stream",
     "text": [
      "Ep 4/10: train_loss=0.2862, train_acc=0.9158, val_loss=0.4329, val_acc=0.8378\n"
     ]
    },
    {
     "name": "stderr",
     "output_type": "stream",
     "text": [
      "C:\\Users\\CVR\\AppData\\Local\\Temp\\ipykernel_3844\\4281753202.py:16: DeprecationWarning: `np.math` is a deprecated alias for the standard library `math` module (Deprecated Numpy 1.25). Replace usages of `np.math` with `math`\n",
      "  sigma_levy = (np.math.gamma(1+lam) * np.sin(np.pi*lam/2) /\n",
      "C:\\Users\\CVR\\AppData\\Local\\Temp\\ipykernel_3844\\4281753202.py:17: DeprecationWarning: `np.math` is a deprecated alias for the standard library `math` module (Deprecated Numpy 1.25). Replace usages of `np.math` with `math`\n",
      "  (np.math.gamma((1+lam)/2)*lam*2**((lam-1)/2)))**(1/lam)\n"
     ]
    },
    {
     "name": "stdout",
     "output_type": "stream",
     "text": [
      "Ep 5/10: train_loss=0.1729, train_acc=0.9598, val_loss=0.3769, val_acc=0.8589\n"
     ]
    },
    {
     "name": "stderr",
     "output_type": "stream",
     "text": [
      "C:\\Users\\CVR\\AppData\\Local\\Temp\\ipykernel_3844\\4281753202.py:16: DeprecationWarning: `np.math` is a deprecated alias for the standard library `math` module (Deprecated Numpy 1.25). Replace usages of `np.math` with `math`\n",
      "  sigma_levy = (np.math.gamma(1+lam) * np.sin(np.pi*lam/2) /\n",
      "C:\\Users\\CVR\\AppData\\Local\\Temp\\ipykernel_3844\\4281753202.py:17: DeprecationWarning: `np.math` is a deprecated alias for the standard library `math` module (Deprecated Numpy 1.25). Replace usages of `np.math` with `math`\n",
      "  (np.math.gamma((1+lam)/2)*lam*2**((lam-1)/2)))**(1/lam)\n"
     ]
    }
   ],
   "source": [
    "# ——— Training Loop Across Models ——————————————————————————————————\n",
    "num_epochs, lr = 10, 0.001\n",
    "histories, final_metrics = {}, {}\n",
    "\n",
    "for name, model in models_dict.items():\n",
    "    print(f\"\\n=== Training {name} ===\")\n",
    "    optimizer = GazelleOptimizer(model.parameters(), lr=lr, momentum=0.9,\n",
    "                                 exploration_factor=0.1, prob_brownian=0.3)\n",
    "    criterion = nn.CrossEntropyLoss()\n",
    "    h = {'train_loss':[], 'val_loss':[], 'train_acc':[], 'val_acc':[]}\n",
    "\n",
    "    for ep in range(num_epochs):\n",
    "        tl, ta = train_one_epoch(model, train_loader, optimizer, criterion)\n",
    "        vm = evaluate(model, val_loader, criterion)\n",
    "        h['train_loss'].append(tl)\n",
    "        h['val_loss'].append(vm['loss'])\n",
    "        h['train_acc'].append(ta)\n",
    "        h['val_acc'].append(vm['accuracy'])\n",
    "        print(f\"Ep {ep+1}/{num_epochs}: train_loss={tl:.4f}, train_acc={ta:.4f}, \"\n",
    "              f\"val_loss={vm['loss']:.4f}, val_acc={vm['accuracy']:.4f}\")\n",
    "\n",
    "    histories[name] = h\n",
    "    final_metrics[name] = evaluate(model, val_loader, criterion)\n"
   ]
  },
  {
   "cell_type": "code",
   "execution_count": null,
   "id": "195d69ac-881b-4716-a177-1a5a8da5985a",
   "metadata": {},
   "outputs": [],
   "source": [
    "# ——— Visualization —————————————————————————————————————————————\n",
    "epochs = range(1, num_epochs+1)\n",
    "plt.figure(figsize=(12,5))\n",
    "for name, h in histories.items():\n",
    "    plt.plot(epochs, h['train_loss'], label=f'{name} train_loss')\n",
    "    plt.plot(epochs, h['val_loss'], '--', label=f'{name} val_loss')\n",
    "plt.xlabel('Epoch'); plt.ylabel('Loss'); plt.title('Training & Validation Loss'); plt.legend(); plt.show()\n",
    "\n",
    "plt.figure(figsize=(12,5))\n",
    "for name, h in histories.items():\n",
    "    plt.plot(epochs, h['train_acc'], label=f'{name} train_acc')\n",
    "    plt.plot(epochs, h['val_acc'], '--', label=f'{name} val_acc')\n",
    "plt.xlabel('Epoch'); plt.ylabel('Accuracy'); plt.title('Training & Validation Accuracy'); plt.legend(); plt.show()\n",
    "\n",
    "# Bar chart of final metrics\n",
    "metrics_list = ['accuracy','precision','recall','f1','mcc']\n",
    "n_models = len(model_names)\n",
    "bar_width, indices = 0.15, np.arange(n_models)\n",
    "plt.figure(figsize=(12,6))\n",
    "for i, metric in enumerate(metrics_list):\n",
    "    vals = [final_metrics[m][metric] for m in model_names]\n",
    "    plt.bar(indices + i*bar_width, vals, width=bar_width, label=metric)\n",
    "plt.xticks(indices + bar_width*2, model_names)\n",
    "plt.ylim(0,1)\n",
    "plt.ylabel('Score'); plt.title('Model Performance Comparison'); plt.legend(); plt.show()\n"
   ]
  },
  {
   "cell_type": "code",
   "execution_count": null,
   "id": "e6cc4e65-daa8-4f5d-8c9c-3c72b58e2399",
   "metadata": {},
   "outputs": [],
   "source": [
    "# ——— Visualization —————————————————————————————————————————————\n",
    "epochs = range(1, num_epochs + 1)\n",
    "\n",
    "# Line plot for Loss\n",
    "plt.figure(figsize=(12, 5))\n",
    "for name, h in histories.items():\n",
    "    plt.plot(epochs, h['train_loss'], label=f'{name} train_loss')\n",
    "    plt.plot(epochs, h['val_loss'], '--', label=f'{name} val_loss')\n",
    "plt.xlabel('Epoch')\n",
    "plt.ylabel('Loss')\n",
    "plt.title('Training & Validation Loss')\n",
    "plt.legend()\n",
    "plt.show()\n",
    "\n",
    "# Line plot for Accuracy\n",
    "plt.figure(figsize=(12, 5))\n",
    "for name, h in histories.items():\n",
    "    plt.plot(epochs, h['train_acc'], label=f'{name} train_acc')\n",
    "    plt.plot(epochs, h['val_acc'], '--', label=f'{name} val_acc')\n",
    "plt.xlabel('Epoch')\n",
    "plt.ylabel('Accuracy')\n",
    "plt.title('Training & Validation Accuracy')\n",
    "plt.legend()\n",
    "plt.show()\n",
    "\n",
    "# Separate bar charts: one metric per chart\n",
    "metrics_list = ['accuracy', 'precision', 'recall', 'f1', 'mcc']\n",
    "model_names = list(final_metrics.keys())\n",
    "\n",
    "for metric in metrics_list:\n",
    "    plt.figure(figsize=(8, 5))\n",
    "    values = [final_metrics[model][metric] for model in model_names]\n",
    "    plt.bar(model_names, values, color='skyblue')\n",
    "    plt.ylim(0, 1)\n",
    "    plt.ylabel('Score')\n",
    "    plt.title(f'Model Comparison - {metric.capitalize()}')\n",
    "    plt.xticks(rotation=45)\n",
    "    plt.grid(axis='y', linestyle='--', alpha=0.7)\n",
    "    plt.tight_layout()\n",
    "    plt.show()\n"
   ]
  }
 ],
 "metadata": {
  "kernelspec": {
   "display_name": "Python [conda env:base] *",
   "language": "python",
   "name": "conda-base-py"
  },
  "language_info": {
   "codemirror_mode": {
    "name": "ipython",
    "version": 3
   },
   "file_extension": ".py",
   "mimetype": "text/x-python",
   "name": "python",
   "nbconvert_exporter": "python",
   "pygments_lexer": "ipython3",
   "version": "3.12.7"
  }
 },
 "nbformat": 4,
 "nbformat_minor": 5
}
